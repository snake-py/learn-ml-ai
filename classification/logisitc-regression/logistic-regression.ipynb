{
 "metadata": {
  "language_info": {
   "codemirror_mode": {
    "name": "ipython",
    "version": 3
   },
   "file_extension": ".py",
   "mimetype": "text/x-python",
   "name": "python",
   "nbconvert_exporter": "python",
   "pygments_lexer": "ipython3",
   "version": "3.8.2"
  },
  "orig_nbformat": 4,
  "kernelspec": {
   "name": "python3",
   "display_name": "Python 3.8.2 32-bit ('venv': venv)"
  },
  "interpreter": {
   "hash": "c417a49691c91d9b44648595085ed515028e5d372c3b348fc3a164164dd20861"
  }
 },
 "nbformat": 4,
 "nbformat_minor": 2,
 "cells": [
  {
   "cell_type": "code",
   "execution_count": 9,
   "metadata": {},
   "outputs": [],
   "source": [
    "import pandas as pd\n",
    "import numpy as np\n",
    "import matplotlib.pyplot as plt\n",
    "from sklearn.linear_model import LogisticRegression\n",
    "from sklearn.model_selection import train_test_split\n",
    "from sklearn.preprocessing import StandardScaler"
   ]
  },
  {
   "cell_type": "code",
   "execution_count": 15,
   "metadata": {},
   "outputs": [],
   "source": [
    "# Load the passenger data\n",
    "passengers = pd.read_csv(\"./train.csv\")"
   ]
  },
  {
   "cell_type": "code",
   "execution_count": 16,
   "metadata": {},
   "outputs": [
    {
     "output_type": "stream",
     "name": "stdout",
     "text": [
      "   PassengerId  Survived  Pclass  \\\n0            1         0       3   \n1            2         1       1   \n2            3         1       3   \n3            4         1       1   \n4            5         0       3   \n\n                                                Name     Sex   Age  SibSp  \\\n0                            Braund, Mr. Owen Harris    male  22.0      1   \n1  Cumings, Mrs. John Bradley (Florence Briggs Th...  female  38.0      1   \n2                             Heikkinen, Miss. Laina  female  26.0      0   \n3       Futrelle, Mrs. Jacques Heath (Lily May Peel)  female  35.0      1   \n4                           Allen, Mr. William Henry    male  35.0      0   \n\n   Parch            Ticket     Fare Cabin Embarked  \n0      0         A/5 21171   7.2500   NaN        S  \n1      0          PC 17599  71.2833   C85        C  \n2      0  STON/O2. 3101282   7.9250   NaN        S  \n3      0            113803  53.1000  C123        S  \n4      0            373450   8.0500   NaN        S  \n"
     ]
    }
   ],
   "source": [
    "print(passengers.head())"
   ]
  },
  {
   "cell_type": "code",
   "execution_count": 17,
   "metadata": {},
   "outputs": [
    {
     "output_type": "stream",
     "name": "stdout",
     "text": [
      "   PassengerId  Survived  Pclass  \\\n0            1         0       3   \n1            2         1       1   \n2            3         1       3   \n3            4         1       1   \n4            5         0       3   \n\n                                                Name  Sex   Age  SibSp  Parch  \\\n0                            Braund, Mr. Owen Harris    0  22.0      1      0   \n1  Cumings, Mrs. John Bradley (Florence Briggs Th...    1  38.0      1      0   \n2                             Heikkinen, Miss. Laina    1  26.0      0      0   \n3       Futrelle, Mrs. Jacques Heath (Lily May Peel)    1  35.0      1      0   \n4                           Allen, Mr. William Henry    0  35.0      0      0   \n\n             Ticket     Fare Cabin Embarked  \n0         A/5 21171   7.2500   NaN        S  \n1          PC 17599  71.2833   C85        C  \n2  STON/O2. 3101282   7.9250   NaN        S  \n3            113803  53.1000  C123        S  \n4            373450   8.0500   NaN        S  \n"
     ]
    }
   ],
   "source": [
    "passengers[\"Sex\"] = passengers[\"Sex\"].apply(lambda x: 0 if x == \"male\" else 1)\n",
    "print(passengers.head())"
   ]
  },
  {
   "cell_type": "code",
   "execution_count": 25,
   "metadata": {},
   "outputs": [
    {
     "output_type": "stream",
     "name": "stdout",
     "text": [
      "29.69911764705882\n"
     ]
    }
   ],
   "source": [
    "m = passengers['Age'].mean()\n",
    "print(m)\n",
    "passengers['Age']= passengers['Age'].fillna(m)"
   ]
  },
  {
   "cell_type": "code",
   "execution_count": 26,
   "metadata": {},
   "outputs": [
    {
     "output_type": "stream",
     "name": "stdout",
     "text": [
      "   PassengerId  Survived  Pclass  \\\n0            1         0       3   \n1            2         1       1   \n2            3         1       3   \n3            4         1       1   \n4            5         0       3   \n\n                                                Name  Sex   Age  SibSp  Parch  \\\n0                            Braund, Mr. Owen Harris    0  22.0      1      0   \n1  Cumings, Mrs. John Bradley (Florence Briggs Th...    1  38.0      1      0   \n2                             Heikkinen, Miss. Laina    1  26.0      0      0   \n3       Futrelle, Mrs. Jacques Heath (Lily May Peel)    1  35.0      1      0   \n4                           Allen, Mr. William Henry    0  35.0      0      0   \n\n             Ticket     Fare Cabin Embarked  \n0         A/5 21171   7.2500   NaN        S  \n1          PC 17599  71.2833   C85        C  \n2  STON/O2. 3101282   7.9250   NaN        S  \n3            113803  53.1000  C123        S  \n4            373450   8.0500   NaN        S  \n"
     ]
    },
    {
     "output_type": "execute_result",
     "data": {
      "text/plain": [
       "array([22.        , 38.        , 26.        , 35.        , 35.        ,\n",
       "       29.69911765, 54.        ,  2.        , 27.        , 14.        ,\n",
       "        4.        , 58.        , 20.        , 39.        , 14.        ,\n",
       "       55.        ,  2.        , 29.69911765, 31.        , 29.69911765,\n",
       "       35.        , 34.        , 15.        , 28.        ,  8.        ,\n",
       "       38.        , 29.69911765, 19.        , 29.69911765, 29.69911765,\n",
       "       40.        , 29.69911765, 29.69911765, 66.        , 28.        ,\n",
       "       42.        , 29.69911765, 21.        , 18.        , 14.        ,\n",
       "       40.        , 27.        , 29.69911765,  3.        , 19.        ,\n",
       "       29.69911765, 29.69911765, 29.69911765, 29.69911765, 18.        ,\n",
       "        7.        , 21.        , 49.        , 29.        , 65.        ,\n",
       "       29.69911765, 21.        , 28.5       ,  5.        , 11.        ,\n",
       "       22.        , 38.        , 45.        ,  4.        , 29.69911765,\n",
       "       29.69911765, 29.        , 19.        , 17.        , 26.        ,\n",
       "       32.        , 16.        , 21.        , 26.        , 32.        ,\n",
       "       25.        , 29.69911765, 29.69911765,  0.83      , 30.        ,\n",
       "       22.        , 29.        , 29.69911765, 28.        , 17.        ,\n",
       "       33.        , 16.        , 29.69911765, 23.        , 24.        ,\n",
       "       29.        , 20.        , 46.        , 26.        , 59.        ,\n",
       "       29.69911765, 71.        , 23.        , 34.        , 34.        ,\n",
       "       28.        , 29.69911765, 21.        , 33.        , 37.        ,\n",
       "       28.        , 21.        , 29.69911765, 38.        , 29.69911765,\n",
       "       47.        , 14.5       , 22.        , 20.        , 17.        ,\n",
       "       21.        , 70.5       , 29.        , 24.        ,  2.        ,\n",
       "       21.        , 29.69911765, 32.5       , 32.5       , 54.        ,\n",
       "       12.        , 29.69911765, 24.        , 29.69911765, 45.        ,\n",
       "       33.        , 20.        , 47.        , 29.        , 25.        ,\n",
       "       23.        , 19.        , 37.        , 16.        , 24.        ,\n",
       "       29.69911765, 22.        , 24.        , 19.        , 18.        ,\n",
       "       19.        , 27.        ,  9.        , 36.5       , 42.        ,\n",
       "       51.        , 22.        , 55.5       , 40.5       , 29.69911765,\n",
       "       51.        , 16.        , 30.        , 29.69911765, 29.69911765,\n",
       "       44.        , 40.        , 26.        , 17.        ,  1.        ,\n",
       "        9.        , 29.69911765, 45.        , 29.69911765, 28.        ,\n",
       "       61.        ,  4.        ,  1.        , 21.        , 56.        ,\n",
       "       18.        , 29.69911765, 50.        , 30.        , 36.        ,\n",
       "       29.69911765, 29.69911765,  9.        ,  1.        ,  4.        ,\n",
       "       29.69911765, 29.69911765, 45.        , 40.        , 36.        ,\n",
       "       32.        , 19.        , 19.        ,  3.        , 44.        ,\n",
       "       58.        , 29.69911765, 42.        , 29.69911765, 24.        ,\n",
       "       28.        , 29.69911765, 34.        , 45.5       , 18.        ,\n",
       "        2.        , 32.        , 26.        , 16.        , 40.        ,\n",
       "       24.        , 35.        , 22.        , 30.        , 29.69911765,\n",
       "       31.        , 27.        , 42.        , 32.        , 30.        ,\n",
       "       16.        , 27.        , 51.        , 29.69911765, 38.        ,\n",
       "       22.        , 19.        , 20.5       , 18.        , 29.69911765,\n",
       "       35.        , 29.        , 59.        ,  5.        , 24.        ,\n",
       "       29.69911765, 44.        ,  8.        , 19.        , 33.        ,\n",
       "       29.69911765, 29.69911765, 29.        , 22.        , 30.        ,\n",
       "       44.        , 25.        , 24.        , 37.        , 54.        ,\n",
       "       29.69911765, 29.        , 62.        , 30.        , 41.        ,\n",
       "       29.        , 29.69911765, 30.        , 35.        , 50.        ,\n",
       "       29.69911765,  3.        , 52.        , 40.        , 29.69911765,\n",
       "       36.        , 16.        , 25.        , 58.        , 35.        ,\n",
       "       29.69911765, 25.        , 41.        , 37.        , 29.69911765,\n",
       "       63.        , 45.        , 29.69911765,  7.        , 35.        ,\n",
       "       65.        , 28.        , 16.        , 19.        , 29.69911765,\n",
       "       33.        , 30.        , 22.        , 42.        , 22.        ,\n",
       "       26.        , 19.        , 36.        , 24.        , 24.        ,\n",
       "       29.69911765, 23.5       ,  2.        , 29.69911765, 50.        ,\n",
       "       29.69911765, 29.69911765, 19.        , 29.69911765, 29.69911765,\n",
       "        0.92      , 29.69911765, 17.        , 30.        , 30.        ,\n",
       "       24.        , 18.        , 26.        , 28.        , 43.        ,\n",
       "       26.        , 24.        , 54.        , 31.        , 40.        ,\n",
       "       22.        , 27.        , 30.        , 22.        , 29.69911765,\n",
       "       36.        , 61.        , 36.        , 31.        , 16.        ,\n",
       "       29.69911765, 45.5       , 38.        , 16.        , 29.69911765,\n",
       "       29.69911765, 29.        , 41.        , 45.        , 45.        ,\n",
       "        2.        , 24.        , 28.        , 25.        , 36.        ,\n",
       "       24.        , 40.        , 29.69911765,  3.        , 42.        ,\n",
       "       23.        , 29.69911765, 15.        , 25.        , 29.69911765,\n",
       "       28.        , 22.        , 38.        , 29.69911765, 29.69911765,\n",
       "       40.        , 29.        , 45.        , 35.        , 29.69911765,\n",
       "       30.        , 60.        , 29.69911765, 29.69911765, 24.        ,\n",
       "       25.        , 18.        , 19.        , 22.        ,  3.        ,\n",
       "       29.69911765, 22.        , 27.        , 20.        , 19.        ,\n",
       "       42.        ,  1.        , 32.        , 35.        , 29.69911765,\n",
       "       18.        ,  1.        , 36.        , 29.69911765, 17.        ,\n",
       "       36.        , 21.        , 28.        , 23.        , 24.        ,\n",
       "       22.        , 31.        , 46.        , 23.        , 28.        ,\n",
       "       39.        , 26.        , 21.        , 28.        , 20.        ,\n",
       "       34.        , 51.        ,  3.        , 21.        , 29.69911765,\n",
       "       29.69911765, 29.69911765, 33.        , 29.69911765, 44.        ,\n",
       "       29.69911765, 34.        , 18.        , 30.        , 10.        ,\n",
       "       29.69911765, 21.        , 29.        , 28.        , 18.        ,\n",
       "       29.69911765, 28.        , 19.        , 29.69911765, 32.        ,\n",
       "       28.        , 29.69911765, 42.        , 17.        , 50.        ,\n",
       "       14.        , 21.        , 24.        , 64.        , 31.        ,\n",
       "       45.        , 20.        , 25.        , 28.        , 29.69911765,\n",
       "        4.        , 13.        , 34.        ,  5.        , 52.        ,\n",
       "       36.        , 29.69911765, 30.        , 49.        , 29.69911765,\n",
       "       29.        , 65.        , 29.69911765, 50.        , 29.69911765,\n",
       "       48.        , 34.        , 47.        , 48.        , 29.69911765,\n",
       "       38.        , 29.69911765, 56.        , 29.69911765,  0.75      ,\n",
       "       29.69911765, 38.        , 33.        , 23.        , 22.        ,\n",
       "       29.69911765, 34.        , 29.        , 22.        ,  2.        ,\n",
       "        9.        , 29.69911765, 50.        , 63.        , 25.        ,\n",
       "       29.69911765, 35.        , 58.        , 30.        ,  9.        ,\n",
       "       29.69911765, 21.        , 55.        , 71.        , 21.        ,\n",
       "       29.69911765, 54.        , 29.69911765, 25.        , 24.        ,\n",
       "       17.        , 21.        , 29.69911765, 37.        , 16.        ,\n",
       "       18.        , 33.        , 29.69911765, 28.        , 26.        ,\n",
       "       29.        , 29.69911765, 36.        , 54.        , 24.        ,\n",
       "       47.        , 34.        , 29.69911765, 36.        , 32.        ,\n",
       "       30.        , 22.        , 29.69911765, 44.        , 29.69911765,\n",
       "       40.5       , 50.        , 29.69911765, 39.        , 23.        ,\n",
       "        2.        , 29.69911765, 17.        , 29.69911765, 30.        ,\n",
       "        7.        , 45.        , 30.        , 29.69911765, 22.        ,\n",
       "       36.        ,  9.        , 11.        , 32.        , 50.        ,\n",
       "       64.        , 19.        , 29.69911765, 33.        ,  8.        ,\n",
       "       17.        , 27.        , 29.69911765, 22.        , 22.        ,\n",
       "       62.        , 48.        , 29.69911765, 39.        , 36.        ,\n",
       "       29.69911765, 40.        , 28.        , 29.69911765, 29.69911765,\n",
       "       24.        , 19.        , 29.        , 29.69911765, 32.        ,\n",
       "       62.        , 53.        , 36.        , 29.69911765, 16.        ,\n",
       "       19.        , 34.        , 39.        , 29.69911765, 32.        ,\n",
       "       25.        , 39.        , 54.        , 36.        , 29.69911765,\n",
       "       18.        , 47.        , 60.        , 22.        , 29.69911765,\n",
       "       35.        , 52.        , 47.        , 29.69911765, 37.        ,\n",
       "       36.        , 29.69911765, 49.        , 29.69911765, 49.        ,\n",
       "       24.        , 29.69911765, 29.69911765, 44.        , 35.        ,\n",
       "       36.        , 30.        , 27.        , 22.        , 40.        ,\n",
       "       39.        , 29.69911765, 29.69911765, 29.69911765, 35.        ,\n",
       "       24.        , 34.        , 26.        ,  4.        , 26.        ,\n",
       "       27.        , 42.        , 20.        , 21.        , 21.        ,\n",
       "       61.        , 57.        , 21.        , 26.        , 29.69911765,\n",
       "       80.        , 51.        , 32.        , 29.69911765,  9.        ,\n",
       "       28.        , 32.        , 31.        , 41.        , 29.69911765,\n",
       "       20.        , 24.        ,  2.        , 29.69911765,  0.75      ,\n",
       "       48.        , 19.        , 56.        , 29.69911765, 23.        ,\n",
       "       29.69911765, 18.        , 21.        , 29.69911765, 18.        ,\n",
       "       24.        , 29.69911765, 32.        , 23.        , 58.        ,\n",
       "       50.        , 40.        , 47.        , 36.        , 20.        ,\n",
       "       32.        , 25.        , 29.69911765, 43.        , 29.69911765,\n",
       "       40.        , 31.        , 70.        , 31.        , 29.69911765,\n",
       "       18.        , 24.5       , 18.        , 43.        , 36.        ,\n",
       "       29.69911765, 27.        , 20.        , 14.        , 60.        ,\n",
       "       25.        , 14.        , 19.        , 18.        , 15.        ,\n",
       "       31.        ,  4.        , 29.69911765, 25.        , 60.        ,\n",
       "       52.        , 44.        , 29.69911765, 49.        , 42.        ,\n",
       "       18.        , 35.        , 18.        , 25.        , 26.        ,\n",
       "       39.        , 45.        , 42.        , 22.        , 29.69911765,\n",
       "       24.        , 29.69911765, 48.        , 29.        , 52.        ,\n",
       "       19.        , 38.        , 27.        , 29.69911765, 33.        ,\n",
       "        6.        , 17.        , 34.        , 50.        , 27.        ,\n",
       "       20.        , 30.        , 29.69911765, 25.        , 25.        ,\n",
       "       29.        , 11.        , 29.69911765, 23.        , 23.        ,\n",
       "       28.5       , 48.        , 35.        , 29.69911765, 29.69911765,\n",
       "       29.69911765, 36.        , 21.        , 24.        , 31.        ,\n",
       "       70.        , 16.        , 30.        , 19.        , 31.        ,\n",
       "        4.        ,  6.        , 33.        , 23.        , 48.        ,\n",
       "        0.67      , 28.        , 18.        , 34.        , 33.        ,\n",
       "       29.69911765, 41.        , 20.        , 36.        , 16.        ,\n",
       "       51.        , 29.69911765, 30.5       , 29.69911765, 32.        ,\n",
       "       24.        , 48.        , 57.        , 29.69911765, 54.        ,\n",
       "       18.        , 29.69911765,  5.        , 29.69911765, 43.        ,\n",
       "       13.        , 17.        , 29.        , 29.69911765, 25.        ,\n",
       "       25.        , 18.        ,  8.        ,  1.        , 46.        ,\n",
       "       29.69911765, 16.        , 29.69911765, 29.69911765, 25.        ,\n",
       "       39.        , 49.        , 31.        , 30.        , 30.        ,\n",
       "       34.        , 31.        , 11.        ,  0.42      , 27.        ,\n",
       "       31.        , 39.        , 18.        , 39.        , 33.        ,\n",
       "       26.        , 39.        , 35.        ,  6.        , 30.5       ,\n",
       "       29.69911765, 23.        , 31.        , 43.        , 10.        ,\n",
       "       52.        , 27.        , 38.        , 27.        ,  2.        ,\n",
       "       29.69911765, 29.69911765,  1.        , 29.69911765, 62.        ,\n",
       "       15.        ,  0.83      , 29.69911765, 23.        , 18.        ,\n",
       "       39.        , 21.        , 29.69911765, 32.        , 29.69911765,\n",
       "       20.        , 16.        , 30.        , 34.5       , 17.        ,\n",
       "       42.        , 29.69911765, 35.        , 28.        , 29.69911765,\n",
       "        4.        , 74.        ,  9.        , 16.        , 44.        ,\n",
       "       18.        , 45.        , 51.        , 24.        , 29.69911765,\n",
       "       41.        , 21.        , 48.        , 29.69911765, 24.        ,\n",
       "       42.        , 27.        , 31.        , 29.69911765,  4.        ,\n",
       "       26.        , 47.        , 33.        , 47.        , 28.        ,\n",
       "       15.        , 20.        , 19.        , 29.69911765, 56.        ,\n",
       "       25.        , 33.        , 22.        , 28.        , 25.        ,\n",
       "       39.        , 27.        , 19.        , 29.69911765, 26.        ,\n",
       "       32.        ])"
      ]
     },
     "metadata": {},
     "execution_count": 26
    }
   ],
   "source": [
    "print(passengers.head())\n",
    "passengers['Age'].values"
   ]
  },
  {
   "cell_type": "code",
   "execution_count": 28,
   "metadata": {},
   "outputs": [
    {
     "output_type": "stream",
     "name": "stdout",
     "text": [
      "   PassengerId  Survived  Pclass  \\\n0            1         0       3   \n1            2         1       1   \n2            3         1       3   \n3            4         1       1   \n4            5         0       3   \n\n                                                Name  Sex   Age  SibSp  Parch  \\\n0                            Braund, Mr. Owen Harris    0  22.0      1      0   \n1  Cumings, Mrs. John Bradley (Florence Briggs Th...    1  38.0      1      0   \n2                             Heikkinen, Miss. Laina    1  26.0      0      0   \n3       Futrelle, Mrs. Jacques Heath (Lily May Peel)    1  35.0      1      0   \n4                           Allen, Mr. William Henry    0  35.0      0      0   \n\n             Ticket     Fare Cabin Embarked  FirstClass  \n0         A/5 21171   7.2500   NaN        S           0  \n1          PC 17599  71.2833   C85        C           1  \n2  STON/O2. 3101282   7.9250   NaN        S           0  \n3            113803  53.1000  C123        S           1  \n4            373450   8.0500   NaN        S           0  \n"
     ]
    }
   ],
   "source": [
    "passengers[\"FirstClass\"] = passengers[\"Pclass\"].apply(lambda x: 1 if x == 1 else 0)\n",
    "print(passengers.head())"
   ]
  },
  {
   "cell_type": "code",
   "execution_count": 29,
   "metadata": {},
   "outputs": [
    {
     "output_type": "stream",
     "name": "stdout",
     "text": [
      "   PassengerId  Survived  Pclass  \\\n0            1         0       3   \n1            2         1       1   \n2            3         1       3   \n3            4         1       1   \n4            5         0       3   \n\n                                                Name  Sex   Age  SibSp  Parch  \\\n0                            Braund, Mr. Owen Harris    0  22.0      1      0   \n1  Cumings, Mrs. John Bradley (Florence Briggs Th...    1  38.0      1      0   \n2                             Heikkinen, Miss. Laina    1  26.0      0      0   \n3       Futrelle, Mrs. Jacques Heath (Lily May Peel)    1  35.0      1      0   \n4                           Allen, Mr. William Henry    0  35.0      0      0   \n\n             Ticket     Fare Cabin Embarked  FirstClass  SecondClass  \n0         A/5 21171   7.2500   NaN        S           0            0  \n1          PC 17599  71.2833   C85        C           1            0  \n2  STON/O2. 3101282   7.9250   NaN        S           0            0  \n3            113803  53.1000  C123        S           1            0  \n4            373450   8.0500   NaN        S           0            0  \n"
     ]
    }
   ],
   "source": [
    "passengers[\"SecondClass\"] = passengers[\"Pclass\"].apply(lambda x: 1 if x == 2 else 0)\n",
    "print(passengers.head())"
   ]
  },
  {
   "cell_type": "code",
   "execution_count": 30,
   "metadata": {},
   "outputs": [],
   "source": [
    "features = [\"Sex\", \"Age\", \"FirstClass\", \"SecondClass\"]"
   ]
  },
  {
   "cell_type": "code",
   "execution_count": 32,
   "metadata": {},
   "outputs": [],
   "source": [
    "### I have the data already split, if dsata would be together here is how a split could be performed\n",
    "x_train, x_test, y_train, y_test= train_test_split(passengers[features], passengers[\"Survived\"],  train_size = 0.8, test_size = 0.2, random_state=6)"
   ]
  },
  {
   "cell_type": "code",
   "execution_count": 66,
   "metadata": {},
   "outputs": [],
   "source": [
    "scalar = StandardScaler()\n",
    "x_train = scalar.fit_transform(x_train)\n",
    "x_test = scalar.transform(x_test)"
   ]
  },
  {
   "cell_type": "code",
   "execution_count": 67,
   "metadata": {},
   "outputs": [
    {
     "output_type": "execute_result",
     "data": {
      "text/plain": [
       "LogisticRegression()"
      ]
     },
     "metadata": {},
     "execution_count": 67
    }
   ],
   "source": [
    "model = LogisticRegression()\n",
    "model.fit(x_train, y_train)"
   ]
  },
  {
   "cell_type": "code",
   "execution_count": 68,
   "metadata": {},
   "outputs": [
    {
     "output_type": "stream",
     "name": "stdout",
     "text": [
      "0.7837078651685393\n0.8491620111731844\n"
     ]
    }
   ],
   "source": [
    "print(model.score(x_train, y_train))\n",
    "print(model.score(x_test, y_test))"
   ]
  },
  {
   "cell_type": "code",
   "execution_count": 69,
   "metadata": {},
   "outputs": [
    {
     "output_type": "execute_result",
     "data": {
      "text/plain": [
       "array([[ 1.18429167, -0.41432834,  0.92495334,  0.44897909]])"
      ]
     },
     "metadata": {},
     "execution_count": 69
    }
   ],
   "source": [
    "model.coef_"
   ]
  },
  {
   "cell_type": "code",
   "execution_count": 70,
   "metadata": {},
   "outputs": [],
   "source": [
    "# Sample passenger features\n",
    "Jack = np.array([0.0,20.0,0.0,0.0])\n",
    "Rose = np.array([1.0,17.0,1.0,0.0])"
   ]
  },
  {
   "cell_type": "code",
   "execution_count": 71,
   "metadata": {},
   "outputs": [],
   "source": [
    "#sample_passengers_1 = np.array([Jack, Rose])\n",
    "sample_passengers = np.concatenate([[Jack, Rose]],  axis=0)"
   ]
  },
  {
   "cell_type": "code",
   "execution_count": 72,
   "metadata": {},
   "outputs": [
    {
     "output_type": "stream",
     "name": "stdout",
     "text": [
      "[[ 0. 20.  0.  0.]\n [ 1. 17.  1.  0.]]\n"
     ]
    }
   ],
   "source": [
    "print(sample_passengers)\n",
    "#print(sample_passengers_1)"
   ]
  },
  {
   "cell_type": "code",
   "execution_count": 73,
   "metadata": {},
   "outputs": [],
   "source": [
    "sample_passengers = scalar.transform(sample_passengers)"
   ]
  },
  {
   "cell_type": "code",
   "execution_count": 74,
   "metadata": {},
   "outputs": [
    {
     "output_type": "stream",
     "name": "stdout",
     "text": [
      "[[-0.74926865 -0.72370727 -0.57302549 -0.5078883 ]\n [ 1.33463478 -0.95310867  1.74512307 -0.5078883 ]]\n"
     ]
    }
   ],
   "source": [
    "print(sample_passengers)"
   ]
  },
  {
   "cell_type": "code",
   "execution_count": 76,
   "metadata": {},
   "outputs": [
    {
     "output_type": "stream",
     "name": "stdout",
     "text": [
      "[0 1]\n[[0.87675392 0.12324608]\n [0.06036212 0.93963788]]\n"
     ]
    }
   ],
   "source": [
    "print(model.predict(sample_passengers))\n",
    "print(model.predict_proba(sample_passengers))"
   ]
  },
  {
   "cell_type": "code",
   "execution_count": null,
   "metadata": {},
   "outputs": [],
   "source": []
  }
 ]
}